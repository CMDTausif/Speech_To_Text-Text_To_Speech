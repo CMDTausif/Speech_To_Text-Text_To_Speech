{
 "cells": [
  {
   "cell_type": "markdown",
   "id": "90a6bcbc",
   "metadata": {},
   "source": [
    "## NLP Project - Speech To Text"
   ]
  },
  {
   "cell_type": "code",
   "execution_count": 1,
   "id": "6d6399a2",
   "metadata": {},
   "outputs": [],
   "source": [
    "import speech_recognition as sr"
   ]
  },
  {
   "cell_type": "code",
   "execution_count": 2,
   "id": "a041cd73",
   "metadata": {},
   "outputs": [],
   "source": [
    "# initialization\n",
    "R = sr.Recognizer()"
   ]
  },
  {
   "cell_type": "code",
   "execution_count": 4,
   "id": "4804d022",
   "metadata": {},
   "outputs": [
    {
     "name": "stdout",
     "output_type": "stream",
     "text": [
      "Speak Now: \n",
      "Pls say again mister!!!\n",
      "Speak Now: \n",
      "The Text: how are you\n",
      "Speak Now: \n",
      "The Text: I am from India\n",
      "Speak Now: \n",
      "The Text: anything Kolkata\n",
      "Speak Now: \n",
      "The Text: I live in Kolkata\n",
      "Speak Now: \n",
      "The Text: my name is Tom\n",
      "Speak Now: \n",
      "The Text: my name is Mohammed Tauseef\n",
      "Speak Now: \n",
      "The Text: Kuwait\n",
      "Speak Now: \n",
      "The Text: capture\n",
      "Speak Now: \n",
      "The Text: exit\n"
     ]
    }
   ],
   "source": [
    "## converting speech to text in Real time\n",
    "while True:\n",
    "    with sr.Microphone() as source:\n",
    "        R.adjust_for_ambient_noise(source, duration= 0.4)   ## adjusting the background noise\n",
    "        print(\"Speak Now: \")\n",
    "        ## capturing the audio\n",
    "        audio = R.listen(source)\n",
    "        \n",
    "        try:\n",
    "            text = R.recognize_google(audio)\n",
    "            print(\"The Text:\", text)\n",
    "            if text==\"exit\":\n",
    "                break\n",
    "        except:\n",
    "            print(\"Pls say again mister!!!\")"
   ]
  },
  {
   "cell_type": "markdown",
   "id": "f9d6aabd",
   "metadata": {},
   "source": [
    "### Converting audio to text"
   ]
  },
  {
   "cell_type": "code",
   "execution_count": 7,
   "id": "409de89e",
   "metadata": {},
   "outputs": [
    {
     "name": "stdout",
     "output_type": "stream",
     "text": [
      "Listening To audio\n",
      "Audio: la la la la la la la la la la la la la\n"
     ]
    }
   ],
   "source": [
    "with sr.AudioFile(\"La la li la la.wav\") as source:\n",
    "        print(\"Listening To audio\")\n",
    "        ## capturing the audio\n",
    "        audio = R.listen(source)\n",
    "        \n",
    "        try:\n",
    "            text = R.recognize_google(audio)\n",
    "            print(\"Audio:\", text)\n",
    "            \n",
    "        except:\n",
    "            print(\"That's an Error!!!\")"
   ]
  },
  {
   "cell_type": "code",
   "execution_count": 8,
   "id": "56d36e1c",
   "metadata": {},
   "outputs": [],
   "source": [
    "# save the model\n",
    "import pickle"
   ]
  },
  {
   "cell_type": "code",
   "execution_count": null,
   "id": "a28ae944",
   "metadata": {},
   "outputs": [],
   "source": [
    "filename = 'savemodel.sav'\n"
   ]
  }
 ],
 "metadata": {
  "kernelspec": {
   "display_name": "Python 3 (ipykernel)",
   "language": "python",
   "name": "python3"
  },
  "language_info": {
   "codemirror_mode": {
    "name": "ipython",
    "version": 3
   },
   "file_extension": ".py",
   "mimetype": "text/x-python",
   "name": "python",
   "nbconvert_exporter": "python",
   "pygments_lexer": "ipython3",
   "version": "3.7.6"
  }
 },
 "nbformat": 4,
 "nbformat_minor": 5
}
